{
  "nbformat": 4,
  "nbformat_minor": 0,
  "metadata": {
    "colab": {
      "provenance": [],
      "authorship_tag": "ABX9TyNqMM3nzOIxVQV2+SiwkDue",
      "include_colab_link": true
    },
    "kernelspec": {
      "name": "python3",
      "display_name": "Python 3"
    },
    "language_info": {
      "name": "python"
    }
  },
  "cells": [
    {
      "cell_type": "markdown",
      "metadata": {
        "id": "view-in-github",
        "colab_type": "text"
      },
      "source": [
        "<a href=\"https://colab.research.google.com/github/its-kanii/SQL-TCL-Commands/blob/main/tcl_commands_sql.ipynb\" target=\"_parent\"><img src=\"https://colab.research.google.com/assets/colab-badge.svg\" alt=\"Open In Colab\"/></a>"
      ]
    },
    {
      "cell_type": "markdown",
      "source": [
        "#TCL Commands in SQL - Explanation with Queries"
      ],
      "metadata": {
        "id": "20u5JsFYFMmd"
      }
    },
    {
      "cell_type": "markdown",
      "source": [
        "#1.COMMIT\n",
        "\n",
        "\n",
        "Explanation:\n",
        "\n",
        "The COMMIT command is used to save all changes made during the current transaction to the database permanently. Once a COMMIT is executed, the transaction is complete, and the changes are finalized.\n",
        "\n",
        "SQL Query Example:"
      ],
      "metadata": {
        "id": "8WdDIcJeFQsR"
      }
    },
    {
      "cell_type": "code",
      "source": [
        "%%sql\n",
        "BEGIN;\n",
        "UPDATE employees SET salary = 5000 WHERE employee_id = 101;\n",
        "COMMIT;"
      ],
      "metadata": {
        "id": "NJUa1093FlSL"
      },
      "execution_count": null,
      "outputs": []
    },
    {
      "cell_type": "markdown",
      "source": [
        "#2. ROLLBACK\n",
        "\n",
        "Explanation:\n",
        "\n",
        "The ROLLBACK command is used to undo all changes made during the current transaction. It reverts the database to the state it was in before the transaction started.\n",
        "\n",
        "SQL Query Example:\n",
        "\n"
      ],
      "metadata": {
        "id": "eVKIMTEBFplz"
      }
    },
    {
      "cell_type": "code",
      "source": [
        "%%sql\n",
        "BEGIN;\n",
        "UPDATE employees SET salary = 5000 WHERE employee_id = 101;\n",
        "ROLLBACK;"
      ],
      "metadata": {
        "id": "y1KkRf0TF0KV"
      },
      "execution_count": null,
      "outputs": []
    },
    {
      "cell_type": "markdown",
      "source": [
        "#3. SAVEPOINT\n",
        "\n",
        "Explanation:\n",
        "\n",
        " The SAVEPOINT command creates a point within a transaction to which you can later roll back. This allows partial rollbacks instead of undoing the entire transaction.\n",
        "\n",
        "SQL Query Example:"
      ],
      "metadata": {
        "id": "GQ9Pu56uF76b"
      }
    },
    {
      "cell_type": "code",
      "source": [
        "%%sql\n",
        "BEGIN;\n",
        "UPDATE employees SET salary = 5000 WHERE employee_id = 101;\n",
        "SAVEPOINT salary_update;\n",
        "UPDATE employees SET salary = 6000 WHERE employee_id = 102;\n",
        "ROLLBACK TO salary_update;\n",
        "COMMIT;"
      ],
      "metadata": {
        "id": "5khOWaunGBtW"
      },
      "execution_count": null,
      "outputs": []
    },
    {
      "cell_type": "markdown",
      "source": [
        "#4. SET TRANSACTION\n",
        "\n",
        "Explanation:\n",
        "\n",
        " The SET TRANSACTION command is used to configure the properties of the current transaction, such as setting the isolation level.\n",
        "\n",
        "SQL Query Example:"
      ],
      "metadata": {
        "id": "Cu0ecIRsGFAc"
      }
    },
    {
      "cell_type": "code",
      "source": [
        "%%sql\n",
        "SET TRANSACTION ISOLATION LEVEL SERIALIZABLE;\n",
        "BEGIN;\n",
        "UPDATE employees SET salary = 5000 WHERE employee_id = 101;\n",
        "COMMIT;"
      ],
      "metadata": {
        "id": "sukntqFrGThY"
      },
      "execution_count": null,
      "outputs": []
    },
    {
      "cell_type": "markdown",
      "source": [
        "#Real-Time Use Cases for TCL Commands\n",
        "#1. COMMIT - Example in E-commerce System\n",
        "\n",
        "In an E-commerce System, suppose a customer places an order. Once the order is confirmed, the inventory is updated, and payment is processed. After all changes, we need to save the transaction to the database permanently.\n",
        "\n",
        "SQL Query Example:"
      ],
      "metadata": {
        "id": "XyXp5kqfGXE7"
      }
    },
    {
      "cell_type": "code",
      "source": [
        "%%sql\n",
        "BEGIN;\n",
        "UPDATE inventory SET stock_quantity = stock_quantity - 1 WHERE product_id = 202;\n",
        "UPDATE orders SET order_status = 'Confirmed' WHERE order_id = 12345;\n",
        "COMMIT;"
      ],
      "metadata": {
        "id": "1QN-xKAaGgwb"
      },
      "execution_count": null,
      "outputs": []
    },
    {
      "cell_type": "markdown",
      "source": [
        "**Use Case Explanation:**\n",
        "\n",
        "The transaction begins by updating the inventory (reducing the stock).\n",
        "The order status is updated to 'Confirmed'.\n",
        "COMMIT is used to save these changes permanently, ensuring the transaction is completed successfully and reflected in the database."
      ],
      "metadata": {
        "id": "RWO0h1SKGpWM"
      }
    },
    {
      "cell_type": "markdown",
      "source": [
        "#2. ROLLBACK - Example in Banking System\n",
        "In a Banking System, when transferring money from one account to another, if an error occurs (like insufficient funds), we need to revert the transaction to maintain data integrity.\n",
        "\n",
        "SQL Query Example:"
      ],
      "metadata": {
        "id": "QzXX_NhYGwcf"
      }
    },
    {
      "cell_type": "code",
      "source": [
        "%%sql\n",
        "BEGIN;\n",
        "UPDATE accounts SET balance = balance - 1000 WHERE account_id = 101; -- Debit account\n",
        "UPDATE accounts SET balance = balance + 1000 WHERE account_id = 102; -- Credit account\n",
        "ROLLBACK; -- Revert changes if something goes wrong (e.g., insufficient funds)"
      ],
      "metadata": {
        "id": "CIbCdX0EHTZS"
      },
      "execution_count": null,
      "outputs": []
    },
    {
      "cell_type": "markdown",
      "source": [
        "Use Case Explanation:\n",
        "\n",
        "* The transaction starts with updating both accounts.\n",
        "*  If any error occurs, like insufficient funds, ROLLBACK is used to undo all changes and keep the account balances unchanged.\n"
      ],
      "metadata": {
        "id": "m9ABXoLkHc_A"
      }
    },
    {
      "cell_type": "markdown",
      "source": [
        "#3. SAVEPOINT - Example in Inventory Management System\n",
        "In an Inventory Management System, we might update the stock levels of multiple products in one transaction. If an error occurs while updating a product, we can roll back only to a specific point using SAVEPOINT.\n",
        "\n",
        "SQL Query Example:"
      ],
      "metadata": {
        "id": "f8VcH28JHprz"
      }
    },
    {
      "cell_type": "code",
      "source": [
        "%%sql\n",
        "BEGIN;\n",
        "UPDATE products SET stock_quantity = stock_quantity - 10 WHERE product_id = 101; -- First product\n",
        "SAVEPOINT update_first_product; -- Set a savepoint after the first product update\n",
        "UPDATE products SET stock_quantity = stock_quantity - 20 WHERE product_id = 102; -- Second product\n",
        "ROLLBACK TO update_first_product; -- Rollback to the savepoint, undoing only the second update\n",
        "COMMIT;"
      ],
      "metadata": {
        "id": "XL_ZwkjWHaPI"
      },
      "execution_count": null,
      "outputs": []
    },
    {
      "cell_type": "markdown",
      "source": [
        "Use Case Explanation:\n",
        "\n",
        "* We set a SAVEPOINT after the first product update.\n",
        "* If something goes wrong with the second update (e.g., invalid stock quantity), we can roll back to the SAVEPOINT, leaving the first update intact while undoing only the second one.  \n",
        "\n",
        "\n",
        "\n",
        "\n"
      ],
      "metadata": {
        "id": "-scAIqbTHyKw"
      }
    },
    {
      "cell_type": "markdown",
      "source": [
        "#4. SET TRANSACTION - Example in Banking System\n",
        "In a Banking System, we may want to ensure that the transaction is isolated from others to avoid inconsistencies while transferring funds. We use SET TRANSACTION to set the isolation level for the transaction.\n",
        "\n",
        "SQL Query Example:"
      ],
      "metadata": {
        "id": "s71FOySpIJZt"
      }
    },
    {
      "cell_type": "code",
      "source": [
        "%%sql\n",
        "SET TRANSACTION ISOLATION LEVEL SERIALIZABLE;\n",
        "BEGIN;\n",
        "UPDATE accounts SET balance = balance - 1000 WHERE account_id = 101;\n",
        "UPDATE accounts SET balance = balance + 1000 WHERE account_id = 102;\n",
        "COMMIT;"
      ],
      "metadata": {
        "id": "2pHV0ptOICnx"
      },
      "execution_count": null,
      "outputs": []
    },
    {
      "cell_type": "markdown",
      "source": [
        "Use Case Explanation:\n",
        "\n",
        "* The SET TRANSACTION command sets the transaction's isolation level to  \n",
        "  SERIALIZABLE, which prevents other transactions from accessing the accounts being updated until the current transaction is completed.\n",
        "* This ensures data consistency and avoids issues like double-spending in banking.\n"
      ],
      "metadata": {
        "id": "1taLnKy9IUcx"
      }
    },
    {
      "cell_type": "markdown",
      "source": [
        "#Final Notes\n",
        "These TCL commands ensure the integrity and consistency of transactions in SQL-based systems. By using COMMIT, ROLLBACK, SAVEPOINT, and SET TRANSACTION, you can manage and control the state of your database even in complex systems like e-commerce, banking, and inventory management.\n",
        "\n",
        "Feel free to explore these examples and adapt them to your own use cases."
      ],
      "metadata": {
        "id": "ngKrCovKIghe"
      }
    }
  ]
}